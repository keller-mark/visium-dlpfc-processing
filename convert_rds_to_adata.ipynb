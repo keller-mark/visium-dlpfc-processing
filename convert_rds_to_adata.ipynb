{
 "cells": [
  {
   "cell_type": "code",
   "execution_count": null,
   "id": "9c6131fa-8957-4906-b83d-4f5f8b878c9c",
   "metadata": {},
   "outputs": [],
   "source": [
    "from rds2py import as_summarized_experiment, read_rds"
   ]
  },
  {
   "cell_type": "code",
   "execution_count": null,
   "id": "9df3d745-0497-47c0-8f37-41d44e835cc7",
   "metadata": {},
   "outputs": [],
   "source": [
    "import scanpy as sc\n",
    "from os.path import join\n",
    "from anndata import AnnData\n",
    "import pandas as pd\n",
    "import numpy as np"
   ]
  },
  {
   "cell_type": "code",
   "execution_count": null,
   "id": "5c4a34f1-534d-4673-85c7-64becae61ade",
   "metadata": {},
   "outputs": [],
   "source": [
    "sce_path = \"./Human_DLPFC_Visium_processedData_sce_scran_spatialLIBD.rds\""
   ]
  },
  {
   "cell_type": "code",
   "execution_count": null,
   "id": "fb14d4d3-1e70-4c05-b5aa-19bcd79af195",
   "metadata": {},
   "outputs": [],
   "source": [
    "r_obj = read_rds(sce_path)"
   ]
  },
  {
   "cell_type": "code",
   "execution_count": null,
   "id": "78ba84be-b05a-4b57-9cd2-f529dddda6db",
   "metadata": {},
   "outputs": [],
   "source": [
    "sce_obj = as_summarized_experiment(r_obj)"
   ]
  },
  {
   "cell_type": "code",
   "execution_count": null,
   "id": "73547eb5-9383-4acb-ac79-b45aedaca146",
   "metadata": {
    "scrolled": true
   },
   "outputs": [],
   "source": [
    "sce_obj"
   ]
  },
  {
   "cell_type": "code",
   "execution_count": null,
   "id": "ca1f8c26-42d9-4b20-811a-1d70b4e25741",
   "metadata": {},
   "outputs": [],
   "source": [
    "adatas = sce_obj.to_anndata()"
   ]
  },
  {
   "cell_type": "code",
   "execution_count": null,
   "id": "cfe519bd-4182-4273-ae8b-e4b73e3f5912",
   "metadata": {},
   "outputs": [],
   "source": [
    "adata = adatas[0]"
   ]
  },
  {
   "cell_type": "code",
   "execution_count": null,
   "id": "46ed6519-a6c1-41fd-b692-c98d2487c4da",
   "metadata": {},
   "outputs": [],
   "source": [
    "adata"
   ]
  },
  {
   "cell_type": "code",
   "execution_count": null,
   "id": "ca63a63d-5187-44aa-8639-3e6e3ff6ff1f",
   "metadata": {},
   "outputs": [],
   "source": [
    "adata_subset = adata[adata.obs['sample_name'] == 151673, :].copy()"
   ]
  },
  {
   "cell_type": "code",
   "execution_count": null,
   "id": "1a7b5780-4edf-4132-a6de-f2908b7b6221",
   "metadata": {},
   "outputs": [],
   "source": [
    "adata_subset.obs"
   ]
  },
  {
   "cell_type": "code",
   "execution_count": null,
   "id": "39fca0a2-ea5e-42e8-b81c-cd7328551d9a",
   "metadata": {},
   "outputs": [],
   "source": [
    "manual_layer_df = pd.read_csv(join(\"DLPFC_annotations\", \"151673_truth.txt\"), sep=\"\\t\", header=None, index_col=0).rename(columns={1: \"layer_manual\"})"
   ]
  },
  {
   "cell_type": "code",
   "execution_count": null,
   "id": "755dc2ed-3526-48f7-9063-d143e692ca8f",
   "metadata": {},
   "outputs": [],
   "source": [
    "manual_layer_df"
   ]
  },
  {
   "cell_type": "code",
   "execution_count": null,
   "id": "2a3fceaa-c916-4fe8-b6ac-9ffa3bb7e113",
   "metadata": {},
   "outputs": [],
   "source": [
    "adata_subset.obs['layer_manual'] = manual_layer_df['layer_manual']"
   ]
  },
  {
   "cell_type": "code",
   "execution_count": null,
   "id": "c2a1caca-3e92-4e7e-aa0d-e424c8954c5c",
   "metadata": {},
   "outputs": [],
   "source": [
    "adata_subset.write_zarr(\"151673.adata.zarr\")"
   ]
  }
 ],
 "metadata": {
  "kernelspec": {
   "display_name": "Python 3 (ipykernel)",
   "language": "python",
   "name": "python3"
  },
  "language_info": {
   "codemirror_mode": {
    "name": "ipython",
    "version": 3
   },
   "file_extension": ".py",
   "mimetype": "text/x-python",
   "name": "python",
   "nbconvert_exporter": "python",
   "pygments_lexer": "ipython3",
   "version": "3.10.13"
  }
 },
 "nbformat": 4,
 "nbformat_minor": 5
}
